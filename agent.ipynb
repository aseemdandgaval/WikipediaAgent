{
 "cells": [
  {
   "cell_type": "markdown",
   "metadata": {},
   "source": [
    "# **1.Importing Libraries**"
   ]
  },
  {
   "cell_type": "code",
   "execution_count": 1,
   "metadata": {},
   "outputs": [],
   "source": [
    "# Set API keys\n",
    "import re\n",
    "import os\n",
    "import wikipediaapi\n",
    "from groq import Groq\n",
    "from langchain.vectorstores import FAISS\n",
    "from langchain.embeddings import OpenAIEmbeddings\n",
    "from langchain.text_splitter import RecursiveCharacterTextSplitter\n",
    "\n",
    "os.environ[\"GROQ_API_KEY\"] = \"gsk...\"\n",
    "client = Groq(api_key=os.environ.get(\"GROQ_API_KEY\"))\n"
   ]
  },
  {
   "cell_type": "markdown",
   "metadata": {},
   "source": [
    "# **2. Creating an AI Agent**"
   ]
  },
  {
   "cell_type": "code",
   "execution_count": null,
   "metadata": {},
   "outputs": [],
   "source": [
    "class Agent:\n",
    "    def __init__(self, client, system):\n",
    "        self.client = client\n",
    "        self.system = system\n",
    "        self.memory = []\n",
    "        # If there is no memory, initialize it with the system message\n",
    "        if self.memory is not None:\n",
    "            self.memory = [{\"role\": \"system\", \"content\": self.system}]\n",
    "\n",
    "    def __call__(self, message=\"\"):\n",
    "        if message:\n",
    "            self.memory.append({\"role\": \"user\", \"content\": message})\n",
    "        result = self.execute()\n",
    "        self.memory.append({\"role\": \"assistant\", \"content\": result})\n",
    "        return result\n",
    "\n",
    "    def execute(self):\n",
    "        completion = client.chat.completions.create(\n",
    "            messages = self.memory,\n",
    "            model=\"llama-3.3-70b-versatile\",\n",
    "        )   \n",
    "        return completion.choices[0].message.content"
   ]
  },
  {
   "cell_type": "markdown",
   "metadata": {},
   "source": [
    "# **Tools/Functions to be used by the Agent**"
   ]
  },
  {
   "cell_type": "code",
   "execution_count": null,
   "metadata": {},
   "outputs": [
    {
     "name": "stderr",
     "output_type": "stream",
     "text": [
      "C:\\Users\\aseem\\AppData\\Local\\Temp\\ipykernel_39484\\1868225075.py:5: LangChainDeprecationWarning: The class `OpenAIEmbeddings` was deprecated in LangChain 0.0.9 and will be removed in 1.0. An updated version of the class exists in the :class:`~langchain-openai package and should be used instead. To use it run `pip install -U :class:`~langchain-openai` and import as `from :class:`~langchain_openai import OpenAIEmbeddings``.\n",
      "  embeddings = OpenAIEmbeddings()\n"
     ]
    }
   ],
   "source": [
    "wiki = wikipediaapi.Wikipedia(\n",
    "    language='en',  \n",
    "    user_agent=\"aseem\"  \n",
    ")\n",
    "embeddings = OpenAIEmbeddings()\n",
    "faiss_store = None\n",
    "    \n",
    "def calculate(operation):\n",
    "    return eval(operation)\n",
    "\n",
    "\n",
    "def wikipedia_search(query, advanced_query, advanced_search=False, top_k=5):\n",
    "    global faiss_store\n",
    "    page = wiki.page(query)\n",
    "\n",
    "    # Check if the page exists\n",
    "    if page.exists():\n",
    "        if advanced_search:\n",
    "            # Get the full content of the Wikipedia page\n",
    "            content = page.text\n",
    "            # Split the content into chunks\n",
    "            chunks = chunk_text(content)\n",
    "            # Store the chunks in FAISS\n",
    "            faiss_store = store_in_faiss(chunks)\n",
    "            # Retrieve the top-k relevant chunks\n",
    "            top_k_documents = retrieve_top_k(advanced_query, top_k)\n",
    "            # Return the retrieved documents\n",
    "            return f\"Context: {\" \".join(top_k_documents)}\\n\"\n",
    "        else:\n",
    "            return f\"Summary: {page.summary}\\n\"\n",
    "    else:\n",
    "        return f\"The page '{query}' does not exist on Wikipedia.\"\n",
    "\n",
    "\n",
    "def chunk_text(text, chunk_size=512, chunk_overlap=50):\n",
    "    \"\"\"\n",
    "    Uses LangChain's RecursiveCharacterTextSplitter to chunk the text.\n",
    "    \"\"\"\n",
    "    splitter = RecursiveCharacterTextSplitter(chunk_size=chunk_size, chunk_overlap=chunk_overlap)\n",
    "    chunks = splitter.split_text(text)\n",
    "    return chunks\n",
    "\n",
    "\n",
    "def store_in_faiss(chunks):\n",
    "    \"\"\"\n",
    "    Stores the chunks in a FAISS vector store.\n",
    "    \"\"\"\n",
    "    vector_store = FAISS.from_texts(chunks, embeddings)\n",
    "    return vector_store\n",
    "\n",
    "\n",
    "def retrieve_top_k(query, top_k=5):\n",
    "    \"\"\"\n",
    "    Retrieves the top-k most relevant chunks from FAISS.\n",
    "    \"\"\"\n",
    "    if faiss_store is None:\n",
    "        return \"No vector data available. Perform advanced search first.\"\n",
    "\n",
    "    # Retrieve top-k documents\n",
    "    docs_and_scores = faiss_store.similarity_search_with_score(query, top_k)\n",
    "    top_k_chunks = [doc.page_content for doc, score in docs_and_scores]\n",
    "    return top_k_chunks"
   ]
  },
  {
   "cell_type": "markdown",
   "metadata": {},
   "source": [
    "# **3. System Prompt**"
   ]
  },
  {
   "cell_type": "code",
   "execution_count": 24,
   "metadata": {},
   "outputs": [],
   "source": [
    "system_prompt = \"\"\"\n",
    "You run in a loop of Thought, Action, PAUSE, Observation.\n",
    "At the end of the loop you output an Answer\n",
    "Use Thought to describe your thoughts about the question you have been asked.\n",
    "Use Action to run one of the actions available to you - then return PAUSE.\n",
    "Observation will be the result of running those actions.\n",
    "\n",
    "Your available actions are:\n",
    "\n",
    "Your available actions are:\n",
    "\n",
    "1) wikipedia_search:\n",
    "   e.g. wikipedia_search: query=\"Albert Einstein\", advanced_query=\"the role of Albert Einstein in quantum mechanics\", advanced_search=False, top_k=5\n",
    "   - If advanced_search is False, you return the top-level summary from the Wikipedia API.\n",
    "   - If advanced_search is True, you retrieve more detailed context using the provided advanced_query and return the top_k relevant chunks.\n",
    "   - Make sure that the query looks like a vlaid title for a page on Wikipedia.\n",
    "\n",
    "2) calculate:\n",
    "   e.g. calculate: 4.0 * 7 / 3\n",
    "   - Runs a Python expression and returns the numeric result.\n",
    "\n",
    "Example session:\n",
    "\n",
    "Question: Who discovered oxygen and when?\n",
    "Thought: Let's first try to get a summary from the Wikipedia page.\n",
    "Action: wikipedia_search: query=\"Oxygen\", advanced_query=\"Who discovered oxygen and when?\", advanced_search=False, top_k=5\n",
    "PAUSE\n",
    "\n",
    "You will be called again with this:\n",
    "Observation: Summary: Oxygen was discovered by Carl Wilhelm Scheele, etc...\n",
    "\n",
    "Thought: The summary might not include the exact year. Let’s do an advanced search for more detail.\n",
    "Action: wikipedia_search: query=\"Oxygen\", advanced_query=\"Who discovered oxygen and when?\", advanced_search=True, top_k=5\n",
    "PAUSE\n",
    "\n",
    "You will be called again with something like:\n",
    "Observation: Context: [Detailed paragraphs about Scheele, Priestley, discovery in 1774, etc.]\n",
    "\n",
    "Thought: Now I have enough information to answer the question.\n",
    "Answer: Oxygen was discovered by Carl Wilhelm Scheele in 1772, though Joseph Priestley published his findings in 1774.\n",
    "\n",
    "---\n",
    "\n",
    "Another example:\n",
    "\n",
    "Question: What is the sum of 3.14 and 2.86?\n",
    "Thought: We just need a calculation here.\n",
    "Action: calculate: 3.14 + 2.86\n",
    "PAUSE\n",
    "\n",
    "You will be called again with something like:\n",
    "Observation: 6.0\n",
    "\n",
    "Thought: We have the answer.\n",
    "Answer: 6.0\n",
    "\n",
    "Now it's your turn:\n",
    "\"\"\".strip()"
   ]
  },
  {
   "cell_type": "markdown",
   "metadata": {},
   "source": [
    "# **4. Automatic Agentic Flow**"
   ]
  },
  {
   "cell_type": "code",
   "execution_count": 10,
   "metadata": {},
   "outputs": [],
   "source": [
    "def run_agent(max_iterations=10, query: str = \"\"):\n",
    "    agent = Agent(client=client, system=system_prompt)\n",
    "    tools = [\"calculate\", \"wikipedia_search\"]\n",
    "    next_prompt = query\n",
    "    i = 0\n",
    "  \n",
    "    while i < max_iterations:\n",
    "        i += 1\n",
    "        result = agent(next_prompt)\n",
    "        print(result)\n",
    "\n",
    "        if \"Thought\" in result and \"Action\" in result:\n",
    "            action = re.findall(r\"Action: ([a-z_]+): (.+)\", result, re.IGNORECASE)\n",
    "            chosen_tool = action[0][0]\n",
    "            args = action[0][1]\n",
    "            if chosen_tool in tools:\n",
    "                if chosen_tool == \"calculate\":\n",
    "                    tool_result = eval(f\"{chosen_tool}({'args'})\")\n",
    "                    next_prompt = f\"Observation: {tool_result}\"\n",
    "                else:\n",
    "                    tool_result = eval(f\"{chosen_tool}({args})\")\n",
    "                    next_prompt = f\"Observation: {tool_result}\"\n",
    "            else:\n",
    "                next_prompt = \"Observation: Tool not found\"\n",
    "\n",
    "            print(next_prompt)\n",
    "            continue\n",
    "        \n",
    "        if \"Answer\" in result:\n",
    "            break"
   ]
  },
  {
   "cell_type": "code",
   "execution_count": 11,
   "metadata": {},
   "outputs": [
    {
     "name": "stdout",
     "output_type": "stream",
     "text": [
      "Thought: To find the capitals of France and India, I can use the Wikipedia API to get information about these countries. I will start by searching for the capital of France.\n",
      "\n",
      "Action: wikipedia_search: query=\"France\", advanced_query=\"Capital of France\", advanced_search=False, top_k=5\n",
      "PAUSE\n",
      "Observation: Summary: France, officially the French Republic, is a country located primarily in Western Europe. Its overseas regions and territories include French Guiana in South America, Saint Pierre and Miquelon in the North Atlantic, the French West Indies, and many islands in Oceania and the Indian Ocean, giving it one of the largest discontiguous exclusive economic zones in the world. Metropolitan France shares borders with Belgium and Luxembourg to the north, Germany to the northeast, Switzerland to the east, Italy and Monaco to the southeast, Andorra and Spain to the south, and a maritime border with the United Kingdom to the northwest. Its metropolitan area extends from the Rhine to the Atlantic Ocean and from the Mediterranean Sea to the English Channel and the North Sea. Its eighteen integral regions—five of which are overseas—span a combined area of 643,801 km2 (248,573 sq mi) and have a total population of nearly 68.4 million as of January 2024. France is a semi-presidential republic with its capital in Paris, the country's largest city and main cultural and economic centre.\n",
      "Metropolitan France was settled during the Iron Age by Celtic tribes known as Gauls before Rome annexed the area in 51 BC, leading to a distinct Gallo-Roman culture. In the Early Middle Ages, the Franks formed the kingdom of Francia, which became the heartland of the Carolingian Empire. The Treaty of Verdun of 843 partitioned the empire, with West Francia evolving into the Kingdom of France. In the High Middle Ages, France was a powerful but decentralized feudal kingdom, but from the mid-14th to the mid-15th centuries, France was plunged into a dynastic conflict with England known as the Hundred Years' War. In the 16th century, French culture flourished during the French Renaissance and a French colonial empire emerged. Internally, France was dominated by the conflict with the House of Habsburg and the French Wars of Religion between Catholics and Huguenots. France was successful in the Thirty Years' War and further increased its influence during the reign of Louis XIV.\n",
      "The French Revolution of 1789 overthrew the Ancien Régime and produced the Declaration of the Rights of Man, which expresses the nation's ideals to this day. France reached its political and military zenith in the early 19th century under Napoleon Bonaparte, subjugating part of continental Europe and establishing the First French Empire. The collapse of the empire initiated a period of relative decline, in which France endured the Bourbon Restoration until the founding of the French Second Republic which was succeeded by the Second French Empire upon Napoleon III's takeover. His empire collapsed during the Franco-Prussian War in 1870. This led to the establishment of the Third French Republic, and subsequent decades saw a period of economic prosperity and cultural and scientific flourishing known as the Belle Époque. France was one of the major participants of World War I, from which it emerged victorious at great human and economic cost. It was among the Allies of World War II, but it surrendered and was occupied in 1940. Following its liberation in 1944, the short-lived Fourth Republic was established and later dissolved in the course of the defeat in the Algerian War. The current Fifth Republic was formed in 1958 by Charles de Gaulle. Algeria and most French colonies became independent in the 1960s, with the majority retaining close economic and military ties with France.\n",
      "France retains its centuries-long status as a global centre of art, science, and philosophy. It hosts the fourth-largest number of UNESCO World Heritage Sites and is the world's leading tourist destination, having received 100 million foreign visitors in 2023. A developed country, France has a high nominal per capita income globally, and its advanced economy ranks among the largest in the world by both nominal GDP and PPP-adjusted GDP. It is a great power, being one of the five permanent members of the United Nations Security Council and an official nuclear-weapon state. France is a founding and leading member of the European Union and the eurozone, as well as a member of the Group of Seven, NATO, OECD, and Francophonie.\n",
      "\n",
      "Thought: The capital of France is mentioned in the summary as Paris. Now, I need to find the capital of India.\n",
      "\n",
      "Action: wikipedia_search: query=\"India\", advanced_query=\"Capital of India\", advanced_search=False, top_k=5\n",
      "PAUSE\n",
      "Observation: Summary: India, officially the Republic of India, is a country in South Asia.  It is the seventh-largest country by area; the most populous country from  June 2023 onwards; and since its independence in 1947, the world's most populous democracy. Bounded by the Indian Ocean on the south, the Arabian Sea on the southwest, and the Bay of Bengal on the southeast, it shares land borders with Pakistan to the west; China, Nepal, and Bhutan to the north; and Bangladesh and Myanmar to the east. In the Indian Ocean, India is near Sri Lanka and the Maldives; its Andaman and Nicobar Islands share a maritime border with Thailand, Myanmar, and Indonesia.\n",
      "Modern humans arrived on the Indian subcontinent from Africa no later than 55,000 years ago. Their long occupation, predominantly in isolation as hunter-gatherers, has made the region highly diverse, second only to Africa in human genetic diversity. Settled life emerged on the subcontinent in the western margins of the Indus river basin 9,000 years ago, evolving gradually into the Indus Valley Civilisation of the third millennium BCE. By 1200 BCE, an archaic form of Sanskrit, an Indo-European language, had diffused into India from the northwest. Its hymns recorded the dawning of Hinduism in India. India's pre-existing Dravidian languages were supplanted in the northern regions. By 400 BCE, caste had emerged within Hinduism, and Buddhism and Jainism had arisen, proclaiming social orders unlinked to heredity. Early political consolidations gave rise to the loose-knit Maurya and Gupta Empires. Widespread creativity suffused this era, but the status of women declined, and untouchability became an organized belief. In South India, the Middle kingdoms exported Dravidian language scripts and religious cultures to the kingdoms of Southeast Asia.\n",
      "In the early mediaeval era, Christianity, Islam, Judaism, and Zoroastrianism became established on India's southern and western coasts. Muslim armies from Central Asia intermittently overran India's northern plains.  The resulting Delhi Sultanate drew northern India into the cosmopolitan networks of mediaeval Islam. In south India, the Vijayanagara Empire created a long-lasting composite Hindu culture. In the Punjab, Sikhism emerged, rejecting institutionalised religion. The Mughal Empire, in 1526, ushered in two centuries of relative peace, leaving a legacy of luminous architecture. Gradually expanding rule of the British East India Company followed.  It turned India into a colonial economy but consolidated its sovereignty. British Crown rule began in 1858. The rights promised to Indians were granted slowly, but technological changes were introduced, and modern ideas of education and public life took root. A pioneering and influential nationalist movement emerged.  Noted for nonviolent resistance it became the major factor in ending British rule. In 1947, the British Indian Empire was partitioned into two independent dominions, a Hindu-majority dominion of India and a Muslim-majority dominion of Pakistan.  A large-scale loss of life and an unprecedented migration accompanied the partition.\n",
      "India has been a federal republic since 1950, governed through a democratic parliamentary system. It is a pluralistic, multilingual and multi-ethnic society. India's population grew from 361 million in 1951 to almost 1.4 billion in 2022.\n",
      "During this time, its nominal per capita income increased from US$64 annually to US$2,601, and its literacy rate from 16.6% to 74%. A comparatively destitute country in 1951, India has become a fast-growing major economy and a hub for information technology services; it has an expanding middle class.  Indian movies and music increasingly influence global culture. India has reduced its poverty rate, though at the cost of increasing economic inequality. It is a nuclear-weapon state that ranks high in military expenditure. It has disputes over Kashmir with its neighbours, Pakistan and China, unresolved since the mid-20th century. Among the socio-economic challenges India faces are gender inequality, child malnutrition, and rising levels of air pollution. India's land is megadiverse with four biodiversity hotspots. India's wildlife, which has traditionally been viewed with tolerance in its culture, is supported among these forests and elsewhere in protected habitats.\n",
      "\n",
      "Thought: The summary does not explicitly mention the capital of India. I need to try a more specific search to find the capital.\n",
      "\n",
      "Action: wikipedia_search: query=\"Capital of India\", advanced_query=\"New Delhi\", advanced_search=True, top_k=1\n",
      "PAUSE\n",
      "Observation: Context: This is a list of locations which have served as capital cities in India. The current capital city is New Delhi, which replaced Calcutta in 1911.\n",
      "\n",
      "Thought: The capital of France is Paris, and the capital of India is New Delhi. I have found the answers to both questions.\n",
      "\n",
      "Answer: The capital of France is Paris, and the capital of India is New Delhi.\n"
     ]
    }
   ],
   "source": [
    "run_agent(query=\"What is the capital of France and India?\")"
   ]
  },
  {
   "cell_type": "markdown",
   "metadata": {},
   "source": [
    "# **5. Manual Agentic Flow**\n"
   ]
  },
  {
   "cell_type": "code",
   "execution_count": 59,
   "metadata": {},
   "outputs": [],
   "source": [
    "agent = Agent(client=client, system=system_prompt)"
   ]
  },
  {
   "cell_type": "code",
   "execution_count": 60,
   "metadata": {},
   "outputs": [
    {
     "name": "stdout",
     "output_type": "stream",
     "text": [
      "Thought: The Lagrange Multiplier is a concept in mathematics, specifically in optimization techniques. To provide a thorough answer, I should first look up the general definition and application of the Lagrange Multiplier on Wikipedia.\n",
      "\n",
      "Action: wikipedia_search: query=\"Lagrange multiplier\", advanced_query=\"application of Lagrange multiplier\", advanced_search=False, top_k=5\n",
      "PAUSE\n"
     ]
    }
   ],
   "source": [
    "result = agent(\"What is Lagrange Multiplier used for?\")\n",
    "print(result)"
   ]
  },
  {
   "cell_type": "code",
   "execution_count": 61,
   "metadata": {},
   "outputs": [
    {
     "name": "stdout",
     "output_type": "stream",
     "text": [
      "Summary: In mathematical optimization, the method of Lagrange multipliers is a strategy for finding the local maxima and minima of a function subject to equation constraints (i.e., subject to the condition that one or more equations have to be satisfied exactly by the chosen values of the variables). It is named after the mathematician Joseph-Louis Lagrange.\n",
      "\n"
     ]
    }
   ],
   "source": [
    "result = wikipedia_search(query=\"Lagrange Multiplier\", advanced_query=\"use of Lagrange Multipliers\", advanced_search=False, top_k=5)\n",
    "print(result)"
   ]
  },
  {
   "cell_type": "code",
   "execution_count": 62,
   "metadata": {},
   "outputs": [
    {
     "data": {
      "text/plain": [
       "'Observation: Summary: In mathematical optimization, the method of Lagrange multipliers is a strategy for finding the local maxima and minima of a function subject to equation constraints (i.e., subject to the condition that one or more equations have to be satisfied exactly by the chosen values of the variables). It is named after the mathematician Joseph-Louis Lagrange.\\n'"
      ]
     },
     "execution_count": 62,
     "metadata": {},
     "output_type": "execute_result"
    }
   ],
   "source": [
    "next_prompt = \"Observation: {}\".format(result)\n",
    "next_prompt"
   ]
  },
  {
   "cell_type": "code",
   "execution_count": 63,
   "metadata": {},
   "outputs": [
    {
     "name": "stdout",
     "output_type": "stream",
     "text": [
      "Thought: The summary provides a good overview of what the Lagrange Multiplier is used for, which is to find the local maxima and minima of a function subject to equation constraints. However, to give a more detailed and specific answer, I would like to know more about the mathematical formulation and examples of its application.\n",
      "\n",
      "Action: wikipedia_search: query=\"Lagrange multiplier\", advanced_query=\"Lagrange multiplier method and examples\", advanced_search=True, top_k=5\n",
      "PAUSE\n"
     ]
    }
   ],
   "source": [
    "result = agent(next_prompt)\n",
    "print(result)"
   ]
  },
  {
   "cell_type": "code",
   "execution_count": 64,
   "metadata": {},
   "outputs": [
    {
     "name": "stdout",
     "output_type": "stream",
     "text": [
      "Context: In mathematical optimization, the method of Lagrange multipliers is a strategy for finding the local maxima and minima of a function subject to equation constraints (i.e., subject to the condition that one or more equations have to be satisfied exactly by the chosen values of the variables). It is named after the mathematician Joseph-Louis Lagrange. Applying the ordinary Lagrange multiplier method yields The great advantage of this method is that it allows the optimization to be solved without explicit parameterization in terms of the constraints. As a result, the method of Lagrange multipliers is widely used to solve challenging constrained optimization problems. Further, the method of Lagrange multipliers is generalized by the Karush–Kuhn–Tucker conditions, which can also take into account inequality constraints of the form \n",
      "  \n",
      "    \n",
      "      \n",
      "        h\n",
      "        (\n",
      "        \n",
      "          x\n",
      "        \n",
      "        ) The fact that solutions of the method of Lagrange multipliers are not necessarily extrema of the Lagrangian, also poses difficulties for numerical optimization. This can be addressed by minimizing the magnitude of the gradient of the Lagrangian, as these minima are the same as the zeros of the magnitude, as illustrated in Example 5: Numerical optimization. \"Lagrange multipliers\". MIT Open Courseware (ocw.mit.edu) (video lecture). Mathematics 18-02: Multivariable calculus. Massachusetts Institute of Technology. Fall 2007.\n",
      "Bertsekas. \"Details on Lagrange multipliers\" (PDF). athenasc.com (slides / course lecture). Non-Linear Programming. — Course slides accompanying text on nonlinear optimization\n",
      "\n"
     ]
    }
   ],
   "source": [
    "result = wikipedia_search(query=\"Lagrange Multiplier\", advanced_query=\"use of Lagrange Multipliers\", advanced_search=True, top_k=5)\n",
    "print(result)"
   ]
  },
  {
   "cell_type": "code",
   "execution_count": 65,
   "metadata": {},
   "outputs": [
    {
     "data": {
      "text/plain": [
       "'Observation: Context: In mathematical optimization, the method of Lagrange multipliers is a strategy for finding the local maxima and minima of a function subject to equation constraints (i.e., subject to the condition that one or more equations have to be satisfied exactly by the chosen values of the variables). It is named after the mathematician Joseph-Louis Lagrange. Applying the ordinary Lagrange multiplier method yields The great advantage of this method is that it allows the optimization to be solved without explicit parameterization in terms of the constraints. As a result, the method of Lagrange multipliers is widely used to solve challenging constrained optimization problems. Further, the method of Lagrange multipliers is generalized by the Karush–Kuhn–Tucker conditions, which can also take into account inequality constraints of the form \\n  \\n    \\n      \\n        h\\n        (\\n        \\n          x\\n        \\n        ) The fact that solutions of the method of Lagrange multipliers are not necessarily extrema of the Lagrangian, also poses difficulties for numerical optimization. This can be addressed by minimizing the magnitude of the gradient of the Lagrangian, as these minima are the same as the zeros of the magnitude, as illustrated in Example 5: Numerical optimization. \"Lagrange multipliers\". MIT Open Courseware (ocw.mit.edu) (video lecture). Mathematics 18-02: Multivariable calculus. Massachusetts Institute of Technology. Fall 2007.\\nBertsekas. \"Details on Lagrange multipliers\" (PDF). athenasc.com (slides / course lecture). Non-Linear Programming. — Course slides accompanying text on nonlinear optimization\\n'"
      ]
     },
     "execution_count": 65,
     "metadata": {},
     "output_type": "execute_result"
    }
   ],
   "source": [
    "next_prompt = \"Observation: {}\".format(result)\n",
    "next_prompt"
   ]
  },
  {
   "cell_type": "code",
   "execution_count": 66,
   "metadata": {},
   "outputs": [
    {
     "data": {
      "text/plain": [
       "'Thought: The observation provides more context and details about the Lagrange Multiplier method, its advantages, and its applications. It seems that the method is widely used to solve constrained optimization problems and has been generalized to include inequality constraints. The observation also mentions some of the challenges and difficulties associated with the method, such as the fact that solutions are not necessarily extrema of the Lagrangian.\\n\\nWith this information, I can now provide a detailed and specific answer to the question of what the Lagrange Multiplier is used for.\\n\\nAnswer: The Lagrange Multiplier is a mathematical optimization technique used to find the local maxima and minima of a function subject to equation constraints. It is a strategy for solving constrained optimization problems without explicit parameterization in terms of the constraints. The method is widely used in various fields, including economics, physics, and engineering, to optimize functions subject to constraints, such as resource limitations or physical laws. The Lagrange Multiplier method has been generalized to include inequality constraints and is a fundamental tool in nonlinear programming and multivariable calculus.'"
      ]
     },
     "execution_count": 66,
     "metadata": {},
     "output_type": "execute_result"
    }
   ],
   "source": [
    "result = agent(next_prompt)\n",
    "result"
   ]
  },
  {
   "cell_type": "code",
   "execution_count": 67,
   "metadata": {},
   "outputs": [
    {
     "name": "stdout",
     "output_type": "stream",
     "text": [
      "You run in a loop of Thought, Action, PAUSE, Observation.\n",
      "At the end of the loop you output an Answer\n",
      "Use Thought to describe your thoughts about the question you have been asked.\n",
      "Use Action to run one of the actions available to you - then return PAUSE.\n",
      "Observation will be the result of running those actions.\n",
      "\n",
      "Your available actions are:\n",
      "\n",
      "Your available actions are:\n",
      "\n",
      "1) wikipedia_search:\n",
      "   e.g. wikipedia_search: query=\"Albert Einstein\", advanced_query=\"the role of Albert Einstein in quantum mechanics\", advanced_search=False, top_k=5\n",
      "   - If advanced_search is False, you return the top-level summary from the Wikipedia API.\n",
      "   - If advanced_search is True, you retrieve more detailed context using the provided advanced_query and return the top_k relevant chunks.\n",
      "   - Make sure that the query looks like a vlaid title for a page on Wikipedia.\n",
      "\n",
      "2) calculate:\n",
      "   e.g. calculate: 4.0 * 7 / 3\n",
      "   - Runs a Python expression and returns the numeric result.\n",
      "\n",
      "Example session:\n",
      "\n",
      "Question: Who discovered oxygen and when?\n",
      "Thought: Let's first try to get a summary from the Wikipedia page.\n",
      "Action: wikipedia_search: query=\"Oxygen\", advanced_query=\"Who discovered oxygen and when?\", advanced_search=False, top_k=5\n",
      "PAUSE\n",
      "\n",
      "You will be called again with this:\n",
      "Observation: Summary: Oxygen was discovered by Carl Wilhelm Scheele, etc...\n",
      "\n",
      "Thought: The summary might not include the exact year. Let’s do an advanced search for more detail.\n",
      "Action: wikipedia_search: query=\"Oxygen\", advanced_query=\"Who discovered oxygen and when?\", advanced_search=True, top_k=5\n",
      "PAUSE\n",
      "\n",
      "You will be called again with something like:\n",
      "Observation: Context: [Detailed paragraphs about Scheele, Priestley, discovery in 1774, etc.]\n",
      "\n",
      "Thought: Now I have enough information to answer the question.\n",
      "Answer: Oxygen was discovered by Carl Wilhelm Scheele in 1772, though Joseph Priestley published his findings in 1774.\n",
      "\n",
      "---\n",
      "\n",
      "Another example:\n",
      "\n",
      "Question: What is the sum of 3.14 and 2.86?\n",
      "Thought: We just need a calculation here.\n",
      "Action: calculate: 3.14 + 2.86\n",
      "PAUSE\n",
      "\n",
      "You will be called again with something like:\n",
      "Observation: 6.0\n",
      "\n",
      "Thought: We have the answer.\n",
      "Answer: 6.0\n",
      "\n",
      "Now it's your turn:\n",
      "What is Lagrange Multiplier used for?\n",
      "Thought: The Lagrange Multiplier is a concept in mathematics, specifically in optimization techniques. To provide a thorough answer, I should first look up the general definition and application of the Lagrange Multiplier on Wikipedia.\n",
      "\n",
      "Action: wikipedia_search: query=\"Lagrange multiplier\", advanced_query=\"application of Lagrange multiplier\", advanced_search=False, top_k=5\n",
      "PAUSE\n",
      "Observation: Summary: In mathematical optimization, the method of Lagrange multipliers is a strategy for finding the local maxima and minima of a function subject to equation constraints (i.e., subject to the condition that one or more equations have to be satisfied exactly by the chosen values of the variables). It is named after the mathematician Joseph-Louis Lagrange.\n",
      "\n",
      "Thought: The summary provides a good overview of what the Lagrange Multiplier is used for, which is to find the local maxima and minima of a function subject to equation constraints. However, to give a more detailed and specific answer, I would like to know more about the mathematical formulation and examples of its application.\n",
      "\n",
      "Action: wikipedia_search: query=\"Lagrange multiplier\", advanced_query=\"Lagrange multiplier method and examples\", advanced_search=True, top_k=5\n",
      "PAUSE\n",
      "Observation: Context: In mathematical optimization, the method of Lagrange multipliers is a strategy for finding the local maxima and minima of a function subject to equation constraints (i.e., subject to the condition that one or more equations have to be satisfied exactly by the chosen values of the variables). It is named after the mathematician Joseph-Louis Lagrange. Applying the ordinary Lagrange multiplier method yields The great advantage of this method is that it allows the optimization to be solved without explicit parameterization in terms of the constraints. As a result, the method of Lagrange multipliers is widely used to solve challenging constrained optimization problems. Further, the method of Lagrange multipliers is generalized by the Karush–Kuhn–Tucker conditions, which can also take into account inequality constraints of the form \n",
      "  \n",
      "    \n",
      "      \n",
      "        h\n",
      "        (\n",
      "        \n",
      "          x\n",
      "        \n",
      "        ) The fact that solutions of the method of Lagrange multipliers are not necessarily extrema of the Lagrangian, also poses difficulties for numerical optimization. This can be addressed by minimizing the magnitude of the gradient of the Lagrangian, as these minima are the same as the zeros of the magnitude, as illustrated in Example 5: Numerical optimization. \"Lagrange multipliers\". MIT Open Courseware (ocw.mit.edu) (video lecture). Mathematics 18-02: Multivariable calculus. Massachusetts Institute of Technology. Fall 2007.\n",
      "Bertsekas. \"Details on Lagrange multipliers\" (PDF). athenasc.com (slides / course lecture). Non-Linear Programming. — Course slides accompanying text on nonlinear optimization\n",
      "\n",
      "Thought: The observation provides more context and details about the Lagrange Multiplier method, its advantages, and its applications. It seems that the method is widely used to solve constrained optimization problems and has been generalized to include inequality constraints. The observation also mentions some of the challenges and difficulties associated with the method, such as the fact that solutions are not necessarily extrema of the Lagrangian.\n",
      "\n",
      "With this information, I can now provide a detailed and specific answer to the question of what the Lagrange Multiplier is used for.\n",
      "\n",
      "Answer: The Lagrange Multiplier is a mathematical optimization technique used to find the local maxima and minima of a function subject to equation constraints. It is a strategy for solving constrained optimization problems without explicit parameterization in terms of the constraints. The method is widely used in various fields, including economics, physics, and engineering, to optimize functions subject to constraints, such as resource limitations or physical laws. The Lagrange Multiplier method has been generalized to include inequality constraints and is a fundamental tool in nonlinear programming and multivariable calculus.\n"
     ]
    }
   ],
   "source": [
    "for msg in agent.memory:\n",
    "    print(msg['content'])"
   ]
  }
 ],
 "metadata": {
  "kernelspec": {
   "display_name": "oo",
   "language": "python",
   "name": "python3"
  },
  "language_info": {
   "codemirror_mode": {
    "name": "ipython",
    "version": 3
   },
   "file_extension": ".py",
   "mimetype": "text/x-python",
   "name": "python",
   "nbconvert_exporter": "python",
   "pygments_lexer": "ipython3",
   "version": "3.12.0"
  }
 },
 "nbformat": 4,
 "nbformat_minor": 2
}
